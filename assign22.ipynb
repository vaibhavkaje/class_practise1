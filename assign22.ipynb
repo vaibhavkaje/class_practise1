{
  "nbformat": 4,
  "nbformat_minor": 0,
  "metadata": {
    "colab": {
      "name": "assign2.ipynb",
      "provenance": []
    },
    "kernelspec": {
      "name": "python3",
      "display_name": "Python 3"
    },
    "language_info": {
      "name": "python"
    }
  },
  "cells": [
    {
      "cell_type": "code",
      "execution_count": null,
      "metadata": {
        "colab": {
          "base_uri": "https://localhost:8080/"
        },
        "id": "qMFViUbE7frw",
        "outputId": "ffdeb371-1b43-4bbd-ae2e-9d8d6f57c613"
      },
      "outputs": [
        {
          "output_type": "stream",
          "name": "stdout",
          "text": [
            "my name is bond,james bond!\n"
          ]
        }
      ],
      "source": [
        "first_name='james'\n",
        "last_name=\"bond\"\n",
        "print('my name is '+ last_name +','+ first_name+' '+ last_name + '!')"
      ]
    },
    {
      "cell_type": "code",
      "source": [
        "temp_in_F=100\n",
        "temp_in_C=(temp_in_F-32)*5/9\n",
        "print(temp_in_C)"
      ],
      "metadata": {
        "colab": {
          "base_uri": "https://localhost:8080/"
        },
        "id": "nEIMX9PL7gl6",
        "outputId": "5ed8aa64-5327-492e-a491-12ea3b0de2da"
      },
      "execution_count": null,
      "outputs": [
        {
          "output_type": "stream",
          "name": "stdout",
          "text": [
            "37.77777777777778\n"
          ]
        }
      ]
    },
    {
      "cell_type": "code",
      "source": [
        "obt_marks=input(\"obtained marks:\")\n",
        "obt_marks=int(obt_marks)\n",
        "\n",
        "if obt_marks>90:\n",
        "  print(\"Grade is A\")\n",
        "else:\n",
        "  print(\"try again\")  \n",
        "\n"
      ],
      "metadata": {
        "colab": {
          "base_uri": "https://localhost:8080/"
        },
        "id": "RVXnWIMU5XP0",
        "outputId": "c5c3a2ab-7b41-44ea-b619-7fecd6bba41c"
      },
      "execution_count": null,
      "outputs": [
        {
          "output_type": "stream",
          "name": "stdout",
          "text": [
            "obtained marks:55\n",
            "try again\n"
          ]
        }
      ]
    }
  ]
}